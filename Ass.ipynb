{
 "cells": [
  {
   "cell_type": "markdown",
   "id": "f11b6830-ea9c-4f92-9bc2-59645696cbe0",
   "metadata": {},
   "source": [
    "# Part 2: Practical Application"
   ]
  },
  {
   "cell_type": "markdown",
   "id": "73b82b1a-255f-4142-be43-a186fa480e45",
   "metadata": {},
   "source": [
    "# Data Cleaning and Preparation"
   ]
  },
  {
   "cell_type": "code",
   "execution_count": 1,
   "id": "4e8de067-10bf-425f-b4ff-cdd44a061db2",
   "metadata": {},
   "outputs": [],
   "source": [
    "import pandas as pd\n",
    "import numpy as np"
   ]
  },
  {
   "cell_type": "code",
   "execution_count": 2,
   "id": "f90d2e92-f7af-4ff1-bbec-a3fd3bbe21f6",
   "metadata": {},
   "outputs": [],
   "source": [
    "# Load dataset\n",
    "data = pd.read_csv('dataset.csv')"
   ]
  },
  {
   "cell_type": "code",
   "execution_count": 3,
   "id": "58ae8d6c-fbf6-4c6c-a833-0700088103a1",
   "metadata": {},
   "outputs": [
    {
     "data": {
      "text/html": [
       "<div>\n",
       "<style scoped>\n",
       "    .dataframe tbody tr th:only-of-type {\n",
       "        vertical-align: middle;\n",
       "    }\n",
       "\n",
       "    .dataframe tbody tr th {\n",
       "        vertical-align: top;\n",
       "    }\n",
       "\n",
       "    .dataframe thead th {\n",
       "        text-align: right;\n",
       "    }\n",
       "</style>\n",
       "<table border=\"1\" class=\"dataframe\">\n",
       "  <thead>\n",
       "    <tr style=\"text-align: right;\">\n",
       "      <th></th>\n",
       "      <th>Channel</th>\n",
       "      <th>Region</th>\n",
       "      <th>Fresh</th>\n",
       "      <th>Milk</th>\n",
       "      <th>Grocery</th>\n",
       "      <th>Frozen</th>\n",
       "      <th>Detergents_Paper</th>\n",
       "      <th>Delicassen</th>\n",
       "    </tr>\n",
       "  </thead>\n",
       "  <tbody>\n",
       "    <tr>\n",
       "      <th>0</th>\n",
       "      <td>2</td>\n",
       "      <td>3</td>\n",
       "      <td>12669</td>\n",
       "      <td>9656</td>\n",
       "      <td>7561</td>\n",
       "      <td>214</td>\n",
       "      <td>2674</td>\n",
       "      <td>1338</td>\n",
       "    </tr>\n",
       "    <tr>\n",
       "      <th>1</th>\n",
       "      <td>2</td>\n",
       "      <td>3</td>\n",
       "      <td>7057</td>\n",
       "      <td>9810</td>\n",
       "      <td>9568</td>\n",
       "      <td>1762</td>\n",
       "      <td>3293</td>\n",
       "      <td>1776</td>\n",
       "    </tr>\n",
       "    <tr>\n",
       "      <th>2</th>\n",
       "      <td>2</td>\n",
       "      <td>3</td>\n",
       "      <td>6353</td>\n",
       "      <td>8808</td>\n",
       "      <td>7684</td>\n",
       "      <td>2405</td>\n",
       "      <td>3516</td>\n",
       "      <td>7844</td>\n",
       "    </tr>\n",
       "    <tr>\n",
       "      <th>3</th>\n",
       "      <td>1</td>\n",
       "      <td>3</td>\n",
       "      <td>13265</td>\n",
       "      <td>1196</td>\n",
       "      <td>4221</td>\n",
       "      <td>6404</td>\n",
       "      <td>507</td>\n",
       "      <td>1788</td>\n",
       "    </tr>\n",
       "    <tr>\n",
       "      <th>4</th>\n",
       "      <td>2</td>\n",
       "      <td>3</td>\n",
       "      <td>22615</td>\n",
       "      <td>5410</td>\n",
       "      <td>7198</td>\n",
       "      <td>3915</td>\n",
       "      <td>1777</td>\n",
       "      <td>5185</td>\n",
       "    </tr>\n",
       "    <tr>\n",
       "      <th>...</th>\n",
       "      <td>...</td>\n",
       "      <td>...</td>\n",
       "      <td>...</td>\n",
       "      <td>...</td>\n",
       "      <td>...</td>\n",
       "      <td>...</td>\n",
       "      <td>...</td>\n",
       "      <td>...</td>\n",
       "    </tr>\n",
       "    <tr>\n",
       "      <th>435</th>\n",
       "      <td>1</td>\n",
       "      <td>3</td>\n",
       "      <td>29703</td>\n",
       "      <td>12051</td>\n",
       "      <td>16027</td>\n",
       "      <td>13135</td>\n",
       "      <td>182</td>\n",
       "      <td>2204</td>\n",
       "    </tr>\n",
       "    <tr>\n",
       "      <th>436</th>\n",
       "      <td>1</td>\n",
       "      <td>3</td>\n",
       "      <td>39228</td>\n",
       "      <td>1431</td>\n",
       "      <td>764</td>\n",
       "      <td>4510</td>\n",
       "      <td>93</td>\n",
       "      <td>2346</td>\n",
       "    </tr>\n",
       "    <tr>\n",
       "      <th>437</th>\n",
       "      <td>2</td>\n",
       "      <td>3</td>\n",
       "      <td>14531</td>\n",
       "      <td>15488</td>\n",
       "      <td>30243</td>\n",
       "      <td>437</td>\n",
       "      <td>14841</td>\n",
       "      <td>1867</td>\n",
       "    </tr>\n",
       "    <tr>\n",
       "      <th>438</th>\n",
       "      <td>1</td>\n",
       "      <td>3</td>\n",
       "      <td>10290</td>\n",
       "      <td>1981</td>\n",
       "      <td>2232</td>\n",
       "      <td>1038</td>\n",
       "      <td>168</td>\n",
       "      <td>2125</td>\n",
       "    </tr>\n",
       "    <tr>\n",
       "      <th>439</th>\n",
       "      <td>1</td>\n",
       "      <td>3</td>\n",
       "      <td>2787</td>\n",
       "      <td>1698</td>\n",
       "      <td>2510</td>\n",
       "      <td>65</td>\n",
       "      <td>477</td>\n",
       "      <td>52</td>\n",
       "    </tr>\n",
       "  </tbody>\n",
       "</table>\n",
       "<p>440 rows × 8 columns</p>\n",
       "</div>"
      ],
      "text/plain": [
       "     Channel  Region  Fresh   Milk  Grocery  Frozen  Detergents_Paper  \\\n",
       "0          2       3  12669   9656     7561     214              2674   \n",
       "1          2       3   7057   9810     9568    1762              3293   \n",
       "2          2       3   6353   8808     7684    2405              3516   \n",
       "3          1       3  13265   1196     4221    6404               507   \n",
       "4          2       3  22615   5410     7198    3915              1777   \n",
       "..       ...     ...    ...    ...      ...     ...               ...   \n",
       "435        1       3  29703  12051    16027   13135               182   \n",
       "436        1       3  39228   1431      764    4510                93   \n",
       "437        2       3  14531  15488    30243     437             14841   \n",
       "438        1       3  10290   1981     2232    1038               168   \n",
       "439        1       3   2787   1698     2510      65               477   \n",
       "\n",
       "     Delicassen  \n",
       "0          1338  \n",
       "1          1776  \n",
       "2          7844  \n",
       "3          1788  \n",
       "4          5185  \n",
       "..          ...  \n",
       "435        2204  \n",
       "436        2346  \n",
       "437        1867  \n",
       "438        2125  \n",
       "439          52  \n",
       "\n",
       "[440 rows x 8 columns]"
      ]
     },
     "execution_count": 3,
     "metadata": {},
     "output_type": "execute_result"
    }
   ],
   "source": [
    "data"
   ]
  },
  {
   "cell_type": "code",
   "execution_count": 4,
   "id": "e5a1cbc5-146a-4d20-9cc1-71ba047153bd",
   "metadata": {},
   "outputs": [
    {
     "name": "stdout",
     "output_type": "stream",
     "text": [
      "Initial Data:\n",
      "   Channel  Region  Fresh  Milk  Grocery  Frozen  Detergents_Paper  Delicassen\n",
      "0        2       3  12669  9656     7561     214              2674        1338\n",
      "1        2       3   7057  9810     9568    1762              3293        1776\n",
      "2        2       3   6353  8808     7684    2405              3516        7844\n",
      "3        1       3  13265  1196     4221    6404               507        1788\n",
      "4        2       3  22615  5410     7198    3915              1777        5185\n"
     ]
    }
   ],
   "source": [
    "# Display initial data\n",
    "print(\"Initial Data:\")\n",
    "print(data.head())"
   ]
  },
  {
   "cell_type": "code",
   "execution_count": 6,
   "id": "69e7f7dd-339c-4715-ab9e-79488c94d625",
   "metadata": {},
   "outputs": [],
   "source": [
    "# Handling missing values\n",
    "for column in data.columns:\n",
    "    if data[column].dtype == 'object':  # Categorical column\n",
    "        # Fill missing values with mode and assign back to the DataFrame\n",
    "        data[column] = data[column].fillna(data[column].mode()[0])\n",
    "    else:  # Numeric column\n",
    "        # Fill missing values with median and assign back to the DataFrame\n",
    "        data[column] = data[column].fillna(data[column].median())"
   ]
  },
  {
   "cell_type": "code",
   "execution_count": 8,
   "id": "5602efbd-420f-4143-a02f-34ff77481073",
   "metadata": {},
   "outputs": [],
   "source": [
    "# Handling inconsistencies\n",
    "# Check if the 'Category' column exists\n",
    "if 'Category' in data.columns:\n",
    "    # Example: Standardizing categorical values\n",
    "    data['Category'] = data['Category'].str.lower().str.strip()\n"
   ]
  },
  {
   "cell_type": "code",
   "execution_count": 9,
   "id": "d6e777d3-4b83-4c2d-b23f-18b2dd266510",
   "metadata": {},
   "outputs": [],
   "source": [
    "# Check for duplicates and remove them\n",
    "data = data.drop_duplicates()"
   ]
  },
  {
   "cell_type": "code",
   "execution_count": 10,
   "id": "ef8dae4b-606c-48f6-9622-31ff244318f0",
   "metadata": {},
   "outputs": [
    {
     "name": "stdout",
     "output_type": "stream",
     "text": [
      "Cleaned Data:\n",
      "   Channel  Region  Fresh  Milk  Grocery  Frozen  Detergents_Paper  Delicassen\n",
      "0        2       3  12669  9656     7561     214              2674        1338\n",
      "1        2       3   7057  9810     9568    1762              3293        1776\n",
      "2        2       3   6353  8808     7684    2405              3516        7844\n",
      "3        1       3  13265  1196     4221    6404               507        1788\n",
      "4        2       3  22615  5410     7198    3915              1777        5185\n"
     ]
    }
   ],
   "source": [
    "# Display cleaned data\n",
    "print(\"Cleaned Data:\")\n",
    "print(data.head())"
   ]
  },
  {
   "cell_type": "code",
   "execution_count": 11,
   "id": "0429017a-c9e0-4fc7-bee8-be2c52d2d374",
   "metadata": {},
   "outputs": [],
   "source": [
    "# Save cleaned data\n",
    "data.to_csv('cleaned_dataset.csv', index=False)"
   ]
  },
  {
   "cell_type": "markdown",
   "id": "c0cae698-2eaf-4cc5-833d-2d2693952c4c",
   "metadata": {},
   "source": [
    "# Part 3: Advanced Analytics"
   ]
  },
  {
   "cell_type": "markdown",
   "id": "08e80e73-6535-474b-8f03-80ecac0454c2",
   "metadata": {},
   "source": [
    "# Statistical Analysis"
   ]
  },
  {
   "cell_type": "code",
   "execution_count": 12,
   "id": "c4234451-8a99-4a0b-b483-7c347a9ae94a",
   "metadata": {},
   "outputs": [],
   "source": [
    "import pandas as pd\n",
    "import seaborn as sns\n",
    "import matplotlib.pyplot as plt\n",
    "from scipy.stats import pearsonr"
   ]
  },
  {
   "cell_type": "code",
   "execution_count": 13,
   "id": "d07c5bd3-12db-49ba-9379-1522f0ee9afc",
   "metadata": {},
   "outputs": [],
   "source": [
    "# Load dataset\n",
    "data = pd.read_csv('dataset.csv')"
   ]
  },
  {
   "cell_type": "code",
   "execution_count": 14,
   "id": "63b81dac-c290-4f05-b2d9-8c53af55e662",
   "metadata": {},
   "outputs": [],
   "source": [
    "# Perform correlation analysis\n",
    "correlation_matrix = data.corr()"
   ]
  },
  {
   "cell_type": "code",
   "execution_count": 15,
   "id": "09cdd5b8-1df7-4ec3-9282-0183a82c16dd",
   "metadata": {},
   "outputs": [
    {
     "name": "stdout",
     "output_type": "stream",
     "text": [
      "Correlation Matrix:\n",
      "                   Channel    Region     Fresh      Milk   Grocery    Frozen  \\\n",
      "Channel           1.000000  0.062028 -0.169172  0.460720  0.608792 -0.202046   \n",
      "Region            0.062028  1.000000  0.055287  0.032288  0.007696 -0.021044   \n",
      "Fresh            -0.169172  0.055287  1.000000  0.100510 -0.011854  0.345881   \n",
      "Milk              0.460720  0.032288  0.100510  1.000000  0.728335  0.123994   \n",
      "Grocery           0.608792  0.007696 -0.011854  0.728335  1.000000 -0.040193   \n",
      "Frozen           -0.202046 -0.021044  0.345881  0.123994 -0.040193  1.000000   \n",
      "Detergents_Paper  0.636026 -0.001483 -0.101953  0.661816  0.924641 -0.131525   \n",
      "Delicassen        0.056011  0.045212  0.244690  0.406368  0.205497  0.390947   \n",
      "\n",
      "                  Detergents_Paper  Delicassen  \n",
      "Channel                   0.636026    0.056011  \n",
      "Region                   -0.001483    0.045212  \n",
      "Fresh                    -0.101953    0.244690  \n",
      "Milk                      0.661816    0.406368  \n",
      "Grocery                   0.924641    0.205497  \n",
      "Frozen                   -0.131525    0.390947  \n",
      "Detergents_Paper          1.000000    0.069291  \n",
      "Delicassen                0.069291    1.000000  \n"
     ]
    }
   ],
   "source": [
    "# Print correlation matrix\n",
    "print(\"Correlation Matrix:\")\n",
    "print(correlation_matrix)\n"
   ]
  },
  {
   "cell_type": "code",
   "execution_count": 16,
   "id": "ac94bdc9-7ae1-4126-ba67-ef7e8b7fad84",
   "metadata": {},
   "outputs": [
    {
     "data": {
      "image/png": "[encoded data removed]",
      "text/plain": [
       "<Figure size 640x480 with 2 Axes>"
      ]
     },
     "metadata": {},
     "output_type": "display_data"
    }
   ],
   "source": [
    "# Visualize correlations\n",
    "sns.heatmap(correlation_matrix, annot=True, cmap='coolwarm')\n",
    "plt.title('Correlation Heatmap')\n",
    "plt.show()"
   ]
  },
  {
   "cell_type": "code",
   "execution_count": 24,
   "id": "23c3ec78-25ec-4448-ac0e-39302c07371d",
   "metadata": {},
   "outputs": [
    {
     "name": "stdout",
     "output_type": "stream",
     "text": [
      "One or both columns are missing from the DataFrame.\n"
     ]
    }
   ],
   "source": [
    "\n",
    "# Replace 'Column1' and 'Column2' with actual column names\n",
    "if 'Sales' in data.columns and 'Profit' in data.columns:\n",
    "    corr, _ = pearsonr(data['Sales'].dropna(), data['Profit'].dropna())\n",
    "    print(f\"Correlation between Sales and Profit: {corr:.2f}\")\n",
    "else:\n",
    "    print(\"One or both columns are missing from the DataFrame.\")"
   ]
  },
  {
   "cell_type": "markdown",
   "id": "686c5244-b4c2-44ec-9018-dbf4638472e3",
   "metadata": {},
   "source": [
    "# Predictive Analytics"
   ]
  },
  {
   "cell_type": "code",
   "execution_count": 26,
   "id": "78291012-2594-43ad-8118-a90ad0f8f15c",
   "metadata": {},
   "outputs": [],
   "source": [
    "import pandas as pd\n",
    "from sklearn.model_selection import train_test_split\n",
    "from sklearn.linear_model import LinearRegression\n",
    "from sklearn.metrics import mean_squared_error"
   ]
  },
  {
   "cell_type": "code",
   "execution_count": 27,
   "id": "993b7e94-b6d6-4b57-8f27-8cfb4dd42709",
   "metadata": {},
   "outputs": [],
   "source": [
    "# Load dataset\n",
    "data = pd.read_csv('dataset.csv')"
   ]
  },
  {
   "cell_type": "code",
   "execution_count": 29,
   "id": "c2162cf3-db09-452b-a812-e4c35bfb0230",
   "metadata": {},
   "outputs": [
    {
     "name": "stdout",
     "output_type": "stream",
     "text": [
      "Columns in the dataset:\n",
      "Index(['Channel', 'Region', 'Fresh', 'Milk', 'Grocery', 'Frozen',\n",
      "       'Detergents_Paper', 'Delicassen'],\n",
      "      dtype='object')\n"
     ]
    }
   ],
   "source": [
    "# Print column names to verify\n",
    "print(\"Columns in the dataset:\")\n",
    "print(data.columns)"
   ]
  },
  {
   "cell_type": "code",
   "execution_count": 56,
   "id": "f9baf821-4c29-48ef-acbe-86ba1d42cd8c",
   "metadata": {},
   "outputs": [],
   "source": [
    "# Verify the presence of 'Date' and 'Sales' columns\n",
    "if 'Date' in data.columns and 'Sales' in data.columns:\n",
    "    # Data preprocessing\n",
    "    data = data[['Date', 'Sales']]  # Simplify to relevant columns\n",
    "    data['Date'] = pd.to_datetime(data['Date'])\n",
    "    data = data.set_index('Date')\n",
    "    data = data.asfreq('D')  # Assuming daily frequency, adjust as necessary\n",
    "    data['Sales'] = data['Sales'].fillna(method='ffill')  # Forward fill missing values"
   ]
  },
  {
   "cell_type": "code",
   "execution_count": 60,
   "id": "9382d803-9759-45cc-b847-f175372c2cf3",
   "metadata": {},
   "outputs": [
    {
     "name": "stdout",
     "output_type": "stream",
     "text": [
      "Data after preprocessing:\n",
      "   Channel  Region  Fresh  Milk  Grocery  Frozen  Detergents_Paper  Delicassen\n",
      "0        2       3  12669  9656     7561     214              2674        1338\n",
      "1        2       3   7057  9810     9568    1762              3293        1776\n",
      "2        2       3   6353  8808     7684    2405              3516        7844\n",
      "3        1       3  13265  1196     4221    6404               507        1788\n",
      "4        2       3  22615  5410     7198    3915              1777        5185\n"
     ]
    }
   ],
   "source": [
    " # Print DataFrame after preprocessing\n",
    "print(\"Data after preprocessing:\")\n",
    "print(data.head())"
   ]
  },
  {
   "cell_type": "code",
   "execution_count": 61,
   "id": "c79130e3-926c-45b6-a86f-861c0b9140ad",
   "metadata": {},
   "outputs": [
    {
     "name": "stdout",
     "output_type": "stream",
     "text": [
      "Columns after preprocessing:\n",
      "Index(['Channel', 'Region', 'Fresh', 'Milk', 'Grocery', 'Frozen',\n",
      "       'Detergents_Paper', 'Delicassen'],\n",
      "      dtype='object')\n"
     ]
    }
   ],
   "source": [
    "print(\"Columns after preprocessing:\")\n",
    "print(data.columns)"
   ]
  },
  {
   "cell_type": "code",
   "execution_count": 66,
   "id": "06095c88-8dec-4130-9d37-8529c68066c3",
   "metadata": {},
   "outputs": [],
   "source": [
    "if 'Sales' in data.columns:\n",
    "    X = data.index.values.reshape(-1, 1)  \n",
    "    y = data['Sales'].values"
   ]
  },
  {
   "cell_type": "code",
   "execution_count": 71,
   "id": "e115a4ab-8f77-428b-af45-b383f9f9707f",
   "metadata": {},
   "outputs": [
    {
     "name": "stdout",
     "output_type": "stream",
     "text": [
      "Error during train-test split: name 'y' is not defined\n"
     ]
    }
   ],
   "source": [
    "try:\n",
    "    X_train, X_test, y_train, y_test = train_test_split(X, y, test_size=0.2, shuffle=False)\n",
    "    print(\"Train-test split successful.\")\n",
    "    print(f\"X_train shape: {X_train.shape}\")\n",
    "    print(f\"y_train shape: {y_train.shape}\")\n",
    "except Exception as e:\n",
    "    print(f\"Error during train-test split: {e}\")\n",
    "    X_train, X_test, y_train, y_test = None, None, None, None"
   ]
  },
  {
   "cell_type": "code",
   "execution_count": 53,
   "id": "f7e4fb59-3b3b-4a06-99c9-521154ee4b89",
   "metadata": {},
   "outputs": [
    {
     "name": "stdout",
     "output_type": "stream",
     "text": [
      "Error during train-test split: name 'y' is not defined\n"
     ]
    }
   ],
   "source": [
    "# Train-test split\n",
    "try:\n",
    "    X_train, X_test, y_train, y_test = train_test_split(X, y, test_size=0.2, shuffle=False)\n",
    "    print(\"Train-test split successful.\")\n",
    "except Exception as e:\n",
    "    print(f\"Error during train-test split: {e}\")\n",
    "    X_train, X_test, y_train, y_test = None, None, None, None"
   ]
  },
  {
   "cell_type": "code",
   "execution_count": 73,
   "id": "49fbe333-bc45-440f-b706-13b465839fa5",
   "metadata": {},
   "outputs": [
    {
     "name": "stdout",
     "output_type": "stream",
     "text": [
      "Error during model training: This LinearRegression estimator requires y to be passed, but the target y is None.\n"
     ]
    }
   ],
   "source": [
    "if X_train is not None and y_train is not None:\n",
    "    # Build and train the model\n",
    "    model = LinearRegression()\n",
    "try:\n",
    "    model.fit(X_train, y_train)\n",
    "    print(\"Model training successful.\")\n",
    "except Exception as e:\n",
    "    print(f\"Error during model training: {e}\")\n",
    "    model = None"
   ]
  },
  {
   "cell_type": "code",
   "execution_count": 75,
   "id": "588d78f8-0776-4ed8-a1d8-040fce8d1f3e",
   "metadata": {},
   "outputs": [
    {
     "name": "stdout",
     "output_type": "stream",
     "text": [
      "Model was not trained. Skipping prediction and evaluation.\n"
     ]
    }
   ],
   "source": [
    "# Check if model is fitted\n",
    "if model is not None:\n",
    "    try:\n",
    "        # Make predictions\n",
    "        y_pred = model.predict(X_test)\n",
    "        print(\"Model predictions successful.\")\n",
    "        \n",
    "        # Evaluate the model\n",
    "        mse = mean_squared_error(y_test, y_pred)\n",
    "        print(f\"Mean Squared Error: {mse:.2f}\")\n",
    "\n",
    "        # Plot results\n",
    "        plt.figure(figsize=(10, 6))\n",
    "        plt.plot(data.index, data['Sales'], label='Actual Sales')\n",
    "        plt.plot(data.index[-len(y_test):], y_pred, label='Predicted Sales', linestyle='--')\n",
    "        plt.xlabel('Date')\n",
    "        plt.ylabel('Sales')\n",
    "        plt.title('Sales Forecast')\n",
    "        plt.legend()\n",
    "        plt.show()\n",
    "\n",
    "    except Exception as e:\n",
    "        print(f\"Error during prediction or evaluation: {e}\")\n",
    "else:\n",
    "    print(\"Model was not trained. Skipping prediction and evaluation.\")\n"
   ]
  }
 ],
 "metadata": {
  "kernelspec": {
   "display_name": "Python 3 (ipykernel)",
   "language": "python",
   "name": "python3"
  },
  "language_info": {
   "codemirror_mode": {
    "name": "ipython",
    "version": 3
   },
   "file_extension": ".py",
   "mimetype": "text/x-python",
   "name": "python",
   "nbconvert_exporter": "python",
   "pygments_lexer": "ipython3",
   "version": "3.12.4"
  }
 },
 "nbformat": 4,
 "nbformat_minor": 5
}
